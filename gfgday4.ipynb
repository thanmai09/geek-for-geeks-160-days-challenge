{
  "nbformat": 4,
  "nbformat_minor": 0,
  "metadata": {
    "colab": {
      "provenance": [],
      "authorship_tag": "ABX9TyMbBlMQgSnBA+FLa057B9Ri",
      "include_colab_link": true
    },
    "kernelspec": {
      "name": "python3",
      "display_name": "Python 3"
    },
    "language_info": {
      "name": "python"
    }
  },
  "cells": [
    {
      "cell_type": "markdown",
      "metadata": {
        "id": "view-in-github",
        "colab_type": "text"
      },
      "source": [
        "<a href=\"https://colab.research.google.com/github/thanmai09/geek-for-geeks-160-days-challenge/blob/main/gfgday4.ipynb\" target=\"_parent\"><img src=\"https://colab.research.google.com/assets/colab-badge.svg\" alt=\"Open In Colab\"/></a>"
      ]
    },
    {
      "cell_type": "markdown",
      "source": [
        "# 🚀 Day 4. Rotate Array **🧠**\n",
        "\n",
        "**💡 Problem Description:**\n",
        "\n",
        "Given an unsorted array arr[]. Rotate the array to the left (counter-clockwise direction) by d steps, where d is a positive integer. Do the mentioned change in the array in place.\n",
        "\n",
        "Note: Consider the array as circular.\n",
        "\n",
        "**🔍 Example Walkthrough:**\n",
        "\n",
        "Input:\n",
        "arr[] = [1, 2, 3, 4, 5], d = 2\n",
        "Output:\n",
        "[3, 4, 5, 1, 2]\n",
        "\n",
        "Explanation:\n",
        "When rotated by 2 elements, it becomes [3, 4, 5, 1, 2].\n",
        "\n",
        "Input:\n",
        "arr[] = [2, 4, 6, 8, 10, 12, 14, 16, 18, 20], d = 3\n",
        "Output:\n",
        "[8, 10, 12, 14, 16, 18, 20, 2, 4, 6]\n",
        "\n",
        "Explanation:\n",
        "When rotated by 3 elements, it becomes [8, 10, 12, 14, 16, 18, 20, 2, 4, 6].\n",
        "\n",
        "Input:\n",
        "arr[] = [7, 3, 9, 1], d = 9\n",
        "Output:\n",
        "[3, 9, 1, 7]\n",
        "\n",
        "Explanation:\n",
        "When we rotate 9 times, we'll get [3, 9, 1, 7] as the resultant array.\n",
        "\n",
        "🎯 My Approach:\n",
        "\n",
        "Rotation Process:\n",
        "\n",
        "The idea is to rotate the array in three parts by reversing the elements in each part:\n",
        "Reverse the first d elements.\n",
        "Reverse the remaining elements from index d to n-1.\n",
        "Reverse the entire array to get the final rotated array.\n",
        "This way, we achieve the desired result without using extra space.\n",
        "Steps:\n",
        "\n",
        "First, we reverse the first d elements.\n",
        "Then, reverse the rest of the array (from index d to n-1).\n",
        "Finally, reverse the entire array."
      ],
      "metadata": {
        "id": "I45VwQ6oGQTb"
      }
    },
    {
      "cell_type": "code",
      "source": [
        "# Class definition\n",
        "class Solution:\n",
        "    def rotateArr(self, arr, d):\n",
        "        n = len(arr)\n",
        "        d %= n  # Handle cases where d > n\n",
        "        arr[0:d] = reversed(arr[0:d])\n",
        "        arr[d:n] = reversed(arr[d:n])\n",
        "        arr[0:n] = reversed(arr[0:n])\n",
        "\n",
        "# Driver code\n",
        "if __name__ == \"__main__\":\n",
        "    # Example input\n",
        "    arr = [1, 2, 3, 4, 5, 6, 7]\n",
        "    d = 2  # Number of positions to rotate\n",
        "\n",
        "    print(\"Original array:\", arr)\n",
        "\n",
        "    # Create an instance of Solution and call the method\n",
        "    sol = Solution()\n",
        "    sol.rotateArr(arr, d)\n",
        "\n",
        "    print(\"Rotated array:\", arr)\n"
      ],
      "metadata": {
        "colab": {
          "base_uri": "https://localhost:8080/"
        },
        "id": "bZEwbXnUHJNW",
        "outputId": "e175df49-6824-4ed8-be93-4f8ebafa7db0"
      },
      "execution_count": 1,
      "outputs": [
        {
          "output_type": "stream",
          "name": "stdout",
          "text": [
            "Original array: [1, 2, 3, 4, 5, 6, 7]\n",
            "Rotated array: [3, 4, 5, 6, 7, 1, 2]\n"
          ]
        }
      ]
    }
  ]
}