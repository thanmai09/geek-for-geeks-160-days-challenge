{
  "nbformat": 4,
  "nbformat_minor": 0,
  "metadata": {
    "colab": {
      "provenance": [],
      "authorship_tag": "ABX9TyMjucnXQtTy58uj6hv15V1L",
      "include_colab_link": true
    },
    "kernelspec": {
      "name": "python3",
      "display_name": "Python 3"
    },
    "language_info": {
      "name": "python"
    }
  },
  "cells": [
    {
      "cell_type": "markdown",
      "metadata": {
        "id": "view-in-github",
        "colab_type": "text"
      },
      "source": [
        "<a href=\"https://colab.research.google.com/github/thanmai09/geek-for-geeks-160-days-challenge/blob/main/Gfgday1.ipynb\" target=\"_parent\"><img src=\"https://colab.research.google.com/assets/colab-badge.svg\" alt=\"Open In Colab\"/></a>"
      ]
    },
    {
      "cell_type": "markdown",
      "source": [
        "Geeks For Geeks 160 Days of Problem Solving\n",
        "\n",
        "🚀 Day 1. Second Largest 🧠\n",
        "\n",
        "\n",
        "💡 Problem Description:\n",
        "Given an array of positive integers arr[], return the second largest element from the array. If the second largest element doesn't exist, return -1.\n",
        "\n",
        "Note: The second largest element should not be equal to the largest element.\n",
        "\n",
        "🔍 Example Walkthrough:\n",
        "Input:\n",
        "\n",
        "arr[] = [12, 35, 1, 10, 34, 1]\n",
        "Output:\n",
        "\n",
        "34\n",
        "Explanation:\n",
        "The largest element of the array is 35, and the second largest element is 34.\n",
        "\n",
        "Input:\n",
        "\n",
        "arr[] = [10, 5, 10]\n",
        "Output:\n",
        "\n",
        "5\n",
        "Explanation:\n",
        "The largest element of the array is 10, and the second largest element is 5.\n",
        "\n",
        "Input:\n",
        "\n",
        "arr[] = [10, 10, 10]\n",
        "Output:\n",
        "\n",
        "-1\n",
        "Explanation:\n",
        "The largest element of the array is 10, and there is no distinct second largest element.\n",
        "\n",
        "\n",
        "🎯 My Approach:\n",
        "Tracking Largest and Second Largest:\n",
        "\n",
        "Initialize two variables, first and second, to the smallest possible values.\n",
        "Traverse through the array:\n",
        "If the current element is greater than first, update second to first, and then set first to the current element.\n",
        "If the current element is less than first but greater than second, update second.\n",
        "If no valid second largest element is found, return -1.\n",
        "Edge Cases:\n",
        "\n",
        "If all elements are the same, return -1.\n",
        "If the array has only two distinct elements, return the smaller of the two if it’s not equal to the largest.\n",
        "🕒 Time and Auxiliary Space Complexity📝\n",
        "Expected Time Complexity: O(n), where n is the number of elements in the array. The algorithm makes a single pass through the array to determine the largest and second largest elements.\n",
        "Expected Auxiliary Space Complexity: O(1), as we only use a constant amount of additional space to store first and second."
      ],
      "metadata": {
        "id": "Jv9bUuDInOl4"
      }
    },
    {
      "cell_type": "code",
      "source": [
        "class Solution:\n",
        "    def getSecondLargest(self, arr):\n",
        "        first = float('-inf')  # Initialize first to negative infinity\n",
        "        second = float('-inf')  # Initialize second to negative infinity\n",
        "\n",
        "        for num in arr:\n",
        "            if num > first:\n",
        "                second = first  # Update second to the previous first\n",
        "                first = num  # Update first to the new largest number\n",
        "            elif num > second and num < first:\n",
        "                second = num  # Update second if num is between first and second\n",
        "\n",
        "        return -1 if second == float('-inf') else second  # Return second if found, else -1\n",
        "\n",
        "# Driver Code Starts\n",
        "if __name__ == \"__main__\":\n",
        "    t = int(input(\"Enter number of test cases: \"))  # Number of test cases\n",
        "\n",
        "    for _ in range(t):\n",
        "        arr = list(map(int, input(\"Enter numbers separated by space: \").split()))  # Input array\n",
        "        ob = Solution()  # Create an instance of the Solution class\n",
        "        ans = ob.getSecondLargest(arr)  # Get the second largest number\n",
        "        print(ans)  # Print the result\n",
        "# Driver Code Ends\n"
      ],
      "metadata": {
        "colab": {
          "base_uri": "https://localhost:8080/"
        },
        "id": "EhUtLJQOniFP",
        "outputId": "1bc1115c-7147-4d64-9e8d-94b0b5e28090"
      },
      "execution_count": null,
      "outputs": [
        {
          "output_type": "stream",
          "name": "stdout",
          "text": [
            "Enter number of test cases: 3\n",
            "Enter numbers separated by space: 7 44 65 4 64 \n",
            "64\n",
            "Enter numbers separated by space: 30 39 33 40 2 \n",
            "39\n"
          ]
        }
      ]
    }
  ]
}