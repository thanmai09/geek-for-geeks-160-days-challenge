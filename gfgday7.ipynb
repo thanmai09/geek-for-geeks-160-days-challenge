{
  "nbformat": 4,
  "nbformat_minor": 0,
  "metadata": {
    "colab": {
      "provenance": [],
      "authorship_tag": "ABX9TyOTRBMX05Zh/WjNflFy6EJN",
      "include_colab_link": true
    },
    "kernelspec": {
      "name": "python3",
      "display_name": "Python 3"
    },
    "language_info": {
      "name": "python"
    }
  },
  "cells": [
    {
      "cell_type": "markdown",
      "metadata": {
        "id": "view-in-github",
        "colab_type": "text"
      },
      "source": [
        "<a href=\"https://colab.research.google.com/github/thanmai09/geek-for-geeks-160-days-challenge/blob/main/gfgday7.ipynb\" target=\"_parent\"><img src=\"https://colab.research.google.com/assets/colab-badge.svg\" alt=\"Open In Colab\"/></a>"
      ]
    },
    {
      "cell_type": "markdown",
      "source": [
        "# **🚀 Day 7. Stock Buy and Sell – Multiple Transaction Allowed 🧠**\n",
        "#💡 Problem Description:\n",
        "You are given an array prices[] where each number represents the price of a stock on the corresponding day. You may buy and sell the stock multiple times. Find the maximum profit that you can achieve by performing multiple transactions (buying and selling the stock).\n",
        "\n",
        "Note: A stock can only be sold if it has been bought previously and multiple stocks cannot be held on any given day.\n",
        "\n",
        "# 🔍 Example Walkthrough:\n",
        "Input:\n",
        "prices[] = [100, 180, 260, 310, 40, 535, 695]\n",
        "Output:\n",
        "865\n",
        "\n",
        "Explanation:\n",
        "Buy the stock on day 0 and sell it on day 3 => 310 – 100 = 210.\n",
        "Buy the stock on day 4 and sell it on day 6 => 695 – 40 = 655.\n",
        "Maximum Profit = 210 + 655 = 865.\n",
        "\n",
        "Input:\n",
        "prices[] = [4, 2, 2, 2, 4]\n",
        "Output:\n",
        "2\n",
        "\n",
        "Explanation:\n",
        "Buy the stock on day 3 and sell it on day 4 => 4 – 2 = 2.\n",
        "Maximum Profit = 2.\n",
        "\n",
        "Constraints:\n",
        "1 <= prices.size() <= 10^5\n",
        "0 <= prices[i] <= 10^4\n",
        "\n",
        "🎯 My Approach:\n",
        "\n",
        "--Greedy Approach:\n",
        "The problem can be solved optimally by iterating through the array and accumulating profit whenever the price on the next day is greater than the price on the current day. This guarantees that we are maximizing profit by buying at the local minima and selling at the local maxima.\n",
        "\n",
        "--Steps:\n",
        "Traverse the array starting from the second day.\n",
        "If the price on the next day is higher than the current day, we calculate the profit and add it to the total.\n",
        "Continue until the end of the array."
      ],
      "metadata": {
        "id": "OUd2KT57krtv"
      }
    },
    {
      "cell_type": "code",
      "source": [
        "from typing import List\n",
        "\n",
        "class Solution:\n",
        "    def maximumProfit(self, prices: List[int]) -> int:\n",
        "        profit = 0\n",
        "        for i in range(1, len(prices)):\n",
        "            if prices[i] > prices[i - 1]:\n",
        "                profit += prices[i] - prices[i - 1]\n",
        "        return profit\n",
        "\n",
        "# Driver code\n",
        "if __name__ == \"__main__\":\n",
        "    # Example input\n",
        "    prices = [7, 1, 5, 3, 6, 4]\n",
        "\n",
        "    # Create an instance of Solution\n",
        "    sol = Solution()\n",
        "\n",
        "    # Call the maximumProfit method and print the result\n",
        "    result = sol.maximumProfit(prices)\n",
        "    print(f\"Maximum Profit: {result}\")\n"
      ],
      "metadata": {
        "colab": {
          "base_uri": "https://localhost:8080/"
        },
        "id": "oJ7BXaZul2Lg",
        "outputId": "5cab1323-8689-406c-f5ed-65a509b44ee1"
      },
      "execution_count": 1,
      "outputs": [
        {
          "output_type": "stream",
          "name": "stdout",
          "text": [
            "Maximum Profit: 7\n"
          ]
        }
      ]
    }
  ]
}