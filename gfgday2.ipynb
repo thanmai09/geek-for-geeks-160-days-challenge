{
  "nbformat": 4,
  "nbformat_minor": 0,
  "metadata": {
    "colab": {
      "provenance": [],
      "authorship_tag": "ABX9TyNqM9zGmgF91zK3k6pC/Zue",
      "include_colab_link": true
    },
    "kernelspec": {
      "name": "python3",
      "display_name": "Python 3"
    },
    "language_info": {
      "name": "python"
    }
  },
  "cells": [
    {
      "cell_type": "markdown",
      "metadata": {
        "id": "view-in-github",
        "colab_type": "text"
      },
      "source": [
        "<a href=\"https://colab.research.google.com/github/thanmai09/geek-for-geeks-160-days-challenge/blob/main/gfgday2.ipynb\" target=\"_parent\"><img src=\"https://colab.research.google.com/assets/colab-badge.svg\" alt=\"Open In Colab\"/></a>"
      ]
    },
    {
      "cell_type": "markdown",
      "source": [
        "🚀 Day 2. Move All Zeroes to End 🧠\n",
        "The problem can be found at the following link: Problem Link\n",
        "\n",
        "💡 Problem Description:\n",
        "Given an array arr[], move all the zeros in the array to the end while maintaining the relative order of non-zero elements. The modification should be done in-place.\n",
        "\n",
        "🔍 Example Walkthrough:\n",
        "Input:\n",
        "\n",
        "arr[] = [1, 2, 0, 4, 3, 0, 5, 0]\n",
        "Output:\n",
        "\n",
        "[1, 2, 4, 3, 5, 0, 0, 0]\n",
        "Explanation:\n",
        "The three zeros are moved to the end while the relative order of non-zero elements is maintained.\n",
        "\n",
        "Input:\n",
        "\n",
        "arr[] = [10, 20, 30]\n",
        "Output:\n",
        "\n",
        "[10, 20, 30]\n",
        "Explanation:\n",
        "No change in the array as there are no zeros.\n",
        "\n",
        "Input:\n",
        "\n",
        "arr[] = [0, 0]\n",
        "Output:\n",
        "\n",
        "[0, 0]\n",
        "Explanation:\n",
        "No change in the array as all elements are zeros.\n",
        "\n",
        "🎯 My Approach:\n",
        "Two-Pointer Technique:\n",
        "\n",
        "Use a pointer nonZeroIndex to track the position where the next non-zero element should be placed.\n",
        "Traverse the array, and whenever a non-zero element is encountered, swap it with the element at the nonZeroIndex and increment the pointer.\n",
        "This ensures all non-zero elements are shifted to the front, and zeros naturally move to the end.\n",
        "Edge Cases:\n",
        "\n",
        "If the array contains no zeros, return the array as is.\n",
        "If the array contains only zeros,  no changes are needed."
      ],
      "metadata": {
        "id": "NUDsWMZrcfLF"
      }
    },
    {
      "cell_type": "code",
      "source": [
        "class Solution:\n",
        "    def pushZerosToEnd(self, arr):\n",
        "        n = len(arr)\n",
        "        nonZeroIndex = 0\n",
        "\n",
        "        for i in range(n):\n",
        "            if arr[i] != 0:\n",
        "                arr[nonZeroIndex], arr[i] = arr[i], arr[nonZeroIndex]\n",
        "                nonZeroIndex += 1\n",
        "\n",
        "# Driver code\n",
        "if __name__ == \"__main__\":\n",
        "\n",
        "    arr = [0, 1, 0, 3, 12]\n",
        "\n",
        "    solution = Solution()\n",
        "\n",
        "    solution.pushZerosToEnd(arr)\n",
        "\n",
        "    print(\"Array after pushing zeros to the end:\", arr)"
      ],
      "metadata": {
        "colab": {
          "base_uri": "https://localhost:8080/"
        },
        "id": "jI_0hhN3dKv2",
        "outputId": "c47231a1-b15b-4ed2-826b-3df8e275563e"
      },
      "execution_count": 2,
      "outputs": [
        {
          "output_type": "stream",
          "name": "stdout",
          "text": [
            "Array after pushing zeros to the end: [1, 3, 12, 0, 0]\n"
          ]
        }
      ]
    }
  ]
}