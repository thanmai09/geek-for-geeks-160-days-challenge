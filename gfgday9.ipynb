{
  "nbformat": 4,
  "nbformat_minor": 0,
  "metadata": {
    "colab": {
      "provenance": [],
      "authorship_tag": "ABX9TyPKCNZEUVVQ3ES3/F//M22h",
      "include_colab_link": true
    },
    "kernelspec": {
      "name": "python3",
      "display_name": "Python 3"
    },
    "language_info": {
      "name": "python"
    }
  },
  "cells": [
    {
      "cell_type": "markdown",
      "metadata": {
        "id": "view-in-github",
        "colab_type": "text"
      },
      "source": [
        "<a href=\"https://colab.research.google.com/github/thanmai09/geek-for-geeks-160-days-challenge/blob/main/gfgday9.ipynb\" target=\"_parent\"><img src=\"https://colab.research.google.com/assets/colab-badge.svg\" alt=\"Open In Colab\"/></a>"
      ]
    },
    {
      "cell_type": "markdown",
      "source": [
        "# **🚀 Day 9. Minimize the Heights II 🧠**\n",
        "# *💡 Problem Description:*\n",
        "\n",
        "Given an array arr[] denoting the heights of N towers and a positive integer K, you are required to perform one of the following operations for each tower:\n",
        "\n",
        "Increase the height of the tower by K\n",
        "Decrease the height of the tower by K\n",
        "Your task is to find out the minimum possible difference between the height of the tallest and shortest towers after performing the operations on each tower.\n",
        "\n",
        "Note:\n",
        "\n",
        "It is compulsory to either increase or decrease the height of the tower by K for each tower.\n",
        "After the operation, the resultant array should not contain any negative integers.\n",
        "\n",
        "## 🔍 Example Walkthrough:\n",
        "Input:\n",
        "k = 2, arr[] = {1, 5, 8, 10}\n",
        "Output:\n",
        "5\n",
        "\n",
        "Explanation:\n",
        "After performing the operations, the modified heights will be {3, 3, 6, 8}. The difference between the largest and smallest heights is 8 - 3 = 5.\n",
        "\n",
        "Input:\n",
        "k = 3, arr[] = {3, 9, 12, 16, 20}\n",
        "Output:\n",
        "11\n",
        "\n",
        "Explanation:\n",
        "After performing the operations, the modified heights will be {6, 12, 9, 13, 17}. The difference between the largest and smallest heights is 17 - 6 = 11.\n",
        "\n",
        "Constraints:\n",
        "1 ≤ k ≤ 10^7\n",
        "1 ≤ n ≤ 10^5\n",
        "1 ≤ arr[i] ≤ 10^7\n",
        "\n",
        "\n",
        "🎯 My Approach:\n",
        "\n",
        "Greedy Approach:\n",
        "\n",
        "Sort the array of heights.\n",
        "The goal is to minimize the difference between the tallest and shortest towers after performing the operations.\n",
        "For each tower, choose whether to increase or decrease the height in such a way that the difference is minimized.\n",
        "Calculate the difference between the modified tallest and shortest tower.\n",
        "Steps:\n",
        "\n",
        "Sort the array of heights.\n",
        "Iterate through the array and try both options (increase or decrease) for each tower.\n",
        "Track the minimum possible difference between the maximum and minimum tower heights after modifying the heights.\n",
        "\n",
        "\n",
        "🕒 Time and Auxiliary Space Complexity 📝\n",
        "\n",
        "Expected Time Complexity: O(n log n), where n is the size of the array. Sorting the array takes O(n log n), and the rest of the operations are linear.\n",
        "Expected Auxiliary Space Complexity: O(n), as we store the modified heights in an auxiliary space."
      ],
      "metadata": {
        "id": "3RDk62GVsc1y"
      }
    },
    {
      "cell_type": "code",
      "source": [
        "class Solution:\n",
        "    def getMinDiff(self, arr, k):\n",
        "        n = len(arr)\n",
        "        if n == 1:\n",
        "            return 0\n",
        "\n",
        "        arr.sort()\n",
        "        ans = arr[-1] - arr[0]\n",
        "\n",
        "        for i in range(n - 1):\n",
        "            high = max(arr[i] + k, arr[-1] - k)\n",
        "            low = min(arr[0] + k, arr[i + 1] - k)\n",
        "            if low < 0:\n",
        "                continue\n",
        "\n",
        "            ans = min(ans, high - low)\n",
        "\n",
        "        return ans\n",
        "\n",
        "# Driver code\n",
        "if __name__ == \"__main__\":\n",
        "    # Example input\n",
        "    arr = [1, 5, 8, 10]\n",
        "    k = 2\n",
        "\n",
        "    # Create instance of Solution and invoke method\n",
        "    sol = Solution()\n",
        "    result = sol.getMinDiff(arr, k)\n",
        "\n",
        "    # Print result\n",
        "    print(\"The minimum difference is:\", result)\n"
      ],
      "metadata": {
        "colab": {
          "base_uri": "https://localhost:8080/"
        },
        "id": "p6ehZF_iscnc",
        "outputId": "144b198c-89c2-40cb-a64a-6264b127a4be"
      },
      "execution_count": 1,
      "outputs": [
        {
          "output_type": "stream",
          "name": "stdout",
          "text": [
            "The minimum difference is: 5\n"
          ]
        }
      ]
    }
  ]
}