{
  "nbformat": 4,
  "nbformat_minor": 0,
  "metadata": {
    "colab": {
      "provenance": [],
      "authorship_tag": "ABX9TyNlbkfPaFT78VuDJLL+XmsL",
      "include_colab_link": true
    },
    "kernelspec": {
      "name": "python3",
      "display_name": "Python 3"
    },
    "language_info": {
      "name": "python"
    }
  },
  "cells": [
    {
      "cell_type": "markdown",
      "metadata": {
        "id": "view-in-github",
        "colab_type": "text"
      },
      "source": [
        "<a href=\"https://colab.research.google.com/github/thanmai09/geek-for-geeks-160-days-challenge/blob/main/gfgday3.ipynb\" target=\"_parent\"><img src=\"https://colab.research.google.com/assets/colab-badge.svg\" alt=\"Open In Colab\"/></a>"
      ]
    },
    {
      "cell_type": "markdown",
      "source": [
        "## 🚀 Day 3. Reverse an Array **🧠**\n",
        "💡 Problem Description:\n",
        "You are given an array of integers arr[]. Your task is to reverse the given array.\n",
        "\n",
        "🔍 Example Walkthrough:\n",
        "Input:\n",
        "arr = [1, 4, 3, 2, 6, 5]\n",
        "Output:\n",
        "[5, 6, 2, 3, 4, 1]\n",
        "\n",
        "Explanation:\n",
        "The elements of the array are 1 4 3 2 6 5. After reversing the array, the first element goes to the last position, the second element goes to the second-last position, and so on. Hence, the answer is [5, 6, 2, 3, 4, 1].\n",
        "\n",
        "Input:\n",
        "arr = [4, 5, 2]\n",
        "Output:\n",
        "[2, 5, 4]\n",
        "\n",
        "Explanation:\n",
        "The elements of the array are 4 5 2. The reversed array will be [2, 5, 4].\n",
        "\n",
        "Input:\n",
        "arr = [1]\n",
        "Output:\n",
        "[1]\n",
        "\n",
        "Explanation:\n",
        "The array has only a single element, hence the reversed array is the same as the original.\n",
        "\n",
        "# **🎯 My Approach:**\n",
        "Reversal Process:\n",
        "\n",
        "The main idea is to reverse the array in-place by swapping elements from both ends.\n",
        "We initialize two pointers: left at the beginning of the array and right at the end.\n",
        "We swap arr[left] and arr[right], then move left forward and right backward until they cross each other.\n",
        "This process effectively reverses the array.\n",
        "Alternative Approaches:\n",
        "\n",
        "XOR Swap Method: You can swap elements using XOR to avoid a temporary variable.\n",
        "Using List Reverse: In some languages, you can simply call the reverse function on the array.\n",
        "# **🕒 Time and Auxiliary Space Complexity📝**\n",
        "Expected Time Complexity: O(n), where n is the number of elements in the array. We perform one pass through the array, swapping elements in place.\n",
        "Expected Auxiliary Space Complexity: O(1), as we only use a constant amount of additional space to track the left and right pointers.\n"
      ],
      "metadata": {
        "id": "EJnqKZW6EgTX"
      }
    },
    {
      "cell_type": "code",
      "source": [
        "class Solution:\n",
        "    def reverseArray(self, arr):\n",
        "        left, right = 0, len(arr) - 1\n",
        "        while left < right:\n",
        "            arr[left], arr[right] = arr[right], arr[left]\n",
        "            left += 1\n",
        "            right -= 1\n",
        "\n",
        "# Driver code\n",
        "if __name__ == \"__main__\":\n",
        "    solution = Solution()\n",
        "\n",
        "    # Example input array\n",
        "    array = [1, 2, 3, 4, 5]\n",
        "    print(\"Original array:\", array)\n",
        "    solution.reverseArray(array)\n",
        "    print(\"Reversed array:\", array)\n"
      ],
      "metadata": {
        "colab": {
          "base_uri": "https://localhost:8080/"
        },
        "id": "_6v56HGyGHBh",
        "outputId": "90e23689-5dfb-4318-cab6-c3d933e4ccb9"
      },
      "execution_count": 3,
      "outputs": [
        {
          "output_type": "stream",
          "name": "stdout",
          "text": [
            "Original array: [1, 2, 3, 4, 5]\n",
            "Reversed array: [5, 4, 3, 2, 1]\n"
          ]
        }
      ]
    }
  ]
}