{
  "nbformat": 4,
  "nbformat_minor": 0,
  "metadata": {
    "colab": {
      "provenance": [],
      "authorship_tag": "ABX9TyMqCQcdE1p451zFFUdh7kvF",
      "include_colab_link": true
    },
    "kernelspec": {
      "name": "python3",
      "display_name": "Python 3"
    },
    "language_info": {
      "name": "python"
    }
  },
  "cells": [
    {
      "cell_type": "markdown",
      "metadata": {
        "id": "view-in-github",
        "colab_type": "text"
      },
      "source": [
        "<a href=\"https://colab.research.google.com/github/thanmai09/geek-for-geeks-160-days-challenge/blob/main/gfgday11.ipynb\" target=\"_parent\"><img src=\"https://colab.research.google.com/assets/colab-badge.svg\" alt=\"Open In Colab\"/></a>"
      ]
    },
    {
      "cell_type": "markdown",
      "source": [
        "# **🚀 Day 11. Maximum Product Subarray 🧠**\n",
        "\n",
        "# 💡 Problem Description:\n",
        "Given an array arr[] that contains both positive and negative integers (and possibly zeros), find the maximum product of any subarray within the array.\n",
        "\n",
        "Note: The result will always fit within the range of a 32-bit integer.\n",
        "\n",
        "# 🔍 Example Walkthrough:\n",
        "Input:\n",
        "arr[] = [-2, 6, -3, -10, 0, 2]\n",
        "Output:\n",
        "180\n",
        "\n",
        "Explanation:\n",
        "The subarray with the maximum product is {6, -3, -10} with product = 6 _ (-3) _ (-10) = 180.\n",
        "\n",
        "Input:\n",
        "arr[] = [-1, -3, -10, 0, 60]\n",
        "\n",
        "Output:\n",
        "60\n",
        "\n",
        "Explanation:\n",
        "The subarray with the maximum product is {60}.\n",
        "\n",
        "\n",
        "Input:\n",
        "arr[] = [2, 3, 4]\n",
        "\n",
        "Output:\n",
        "24\n",
        "\n",
        "Explanation:\n",
        "For an array with all positive elements, the result is the product of all elements.\n",
        "\n",
        "🎯 My Approach:\n",
        "\n",
        "--Dynamic Programming with Two Variables (maxVal, minVal):\n",
        "\n",
        "The idea is to track the maximum and minimum product subarrays up to the current index. The minimum product may become the maximum product if multiplied by a negative number.\n",
        "\n",
        "--Steps:\n",
        "\n",
        "Traverse the array, updating the maxVal and minVal at each step based on the current number.\n",
        "If the current number is negative, we swap maxVal and minVal.\n",
        "Update maxProduct after processing each element to keep track of the overall maximum product encountered.\n"
      ],
      "metadata": {
        "id": "rncjjpDsPJBn"
      }
    },
    {
      "cell_type": "code",
      "execution_count": null,
      "metadata": {
        "colab": {
          "base_uri": "https://localhost:8080/"
        },
        "id": "mYO9IKx3PGeS",
        "outputId": "03db4fba-d355-47e8-83f6-b6b9d09138bc"
      },
      "outputs": [
        {
          "output_type": "stream",
          "name": "stdout",
          "text": [
            "Test case 1: [2, 3, -2, 4] => Max Product: 6\n",
            "Test case 2: [-2, 0, -1] => Max Product: 0\n",
            "Test case 3: [-2, 3, -4] => Max Product: 24\n",
            "Test case 4: [0, 2] => Max Product: 2\n",
            "Test case 5: [1, -2, -3, 0, 7] => Max Product: 7\n",
            "Test case 6: [2, 3, -2, -4, 0, 5] => Max Product: 48\n"
          ]
        }
      ],
      "source": [
        "class Solution:\n",
        "    def maxProduct(self, arr):\n",
        "        max_product = arr[0]\n",
        "        max_val = arr[0]\n",
        "        min_val = arr[0]\n",
        "\n",
        "        for i in range(1, len(arr)):\n",
        "            if arr[i] < 0:\n",
        "                max_val, min_val = min_val, max_val\n",
        "\n",
        "            max_val = max(arr[i], max_val * arr[i])\n",
        "            min_val = min(arr[i], min_val * arr[i])\n",
        "\n",
        "            max_product = max(max_product, max_val)\n",
        "\n",
        "        return max_product\n",
        "\n",
        "# Driver code\n",
        "if __name__ == \"__main__\":\n",
        "    solution = Solution()\n",
        "\n",
        "    # Test cases\n",
        "    test_cases = [\n",
        "        [2, 3, -2, 4],\n",
        "        [-2, 0, -1],\n",
        "        [-2, 3, -4],\n",
        "        [0, 2],\n",
        "        [1, -2, -3, 0, 7],\n",
        "        [2, 3, -2, -4, 0, 5]\n",
        "    ]\n",
        "\n",
        "    for i, test_case in enumerate(test_cases):\n",
        "        result = solution.maxProduct(test_case)\n",
        "        print(f\"Test case {i + 1}: {test_case} => Max Product: {result}\")"
      ]
    }
  ]
}