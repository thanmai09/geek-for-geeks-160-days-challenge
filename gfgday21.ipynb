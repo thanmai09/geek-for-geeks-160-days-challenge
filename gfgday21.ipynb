{
  "nbformat": 4,
  "nbformat_minor": 0,
  "metadata": {
    "colab": {
      "provenance": [],
      "authorship_tag": "ABX9TyNJHG6HhEtq6va1LBoob4bb",
      "include_colab_link": true
    },
    "kernelspec": {
      "name": "python3",
      "display_name": "Python 3"
    },
    "language_info": {
      "name": "python"
    }
  },
  "cells": [
    {
      "cell_type": "markdown",
      "metadata": {
        "id": "view-in-github",
        "colab_type": "text"
      },
      "source": [
        "<a href=\"https://colab.research.google.com/github/thanmai09/geek-for-geeks-160-days-challenge/blob/main/gfgday21.ipynb\" target=\"_parent\"><img src=\"https://colab.research.google.com/assets/colab-badge.svg\" alt=\"Open In Colab\"/></a>"
      ]
    },
    {
      "cell_type": "markdown",
      "source": [],
      "metadata": {
        "id": "LISMoLA0rOge"
      }
    },
    {
      "cell_type": "markdown",
      "source": [
        "# **🚀 Day 1. Sort 0s, 1s, and 2s 🧠**\n",
        "# 💡 Problem Description:\n",
        "You are given an array arr[] containing only 0s, 1s, and 2s. The task is to sort the array in ascending order. The problem must be solved in-place, and the space complexity should be constant.\n",
        "\n",
        "# 🔍 Example Walkthrough:\n",
        "Input:\n",
        "\n",
        "arr[] = [0, 1, 2, 0, 1, 2]\n",
        "\n",
        "Output:\n",
        "\n",
        "[0, 0, 1, 1, 2, 2]\n",
        "\n",
        "Explanation:\n",
        "\n",
        "The array is sorted into ascending order.\n",
        "\n",
        "Input:\n",
        "\n",
        "arr[] = [0, 1, 1, 0, 1, 2, 1, 2, 0, 0, 0, 1]\n",
        "\n",
        "Output:\n",
        "\n",
        "[0, 0, 0, 0, 0, 1, 1, 1, 1, 1, 2, 2]\n",
        "\n",
        "Explanation:\n",
        "\n",
        "The array is sorted into ascending order.\n",
        "\n",
        "Constraints:\n",
        "\n",
        "1 <= arr.size() <= 10^6\n",
        "0 <= arr[i] <= 2\n",
        "# 🎯 My Approach:\n",
        "- Dutch National Flag Algorithm:\n",
        "\n",
        "This problem can be solved using a two-pointer approach, also known as the Dutch National Flag Algorithm.\n",
        "\n",
        "It divides the array into three sections:\n",
        "\n",
        "All 0s will be placed at the beginning.\n",
        "\n",
        "All 2s will be placed at the end.\n",
        "\n",
        "All 1s will remain in the middle.\n",
        "\n",
        "By iterating through the array and performing swaps, we can sort the array in a single pass.\n",
        "\n",
        "- Steps:\n",
        "\n",
        "Initialize three pointers: low, mid, and high.\n",
        "\n",
        "Use low to track the position of 0s, high to track the position of 2s, and mid to traverse the array.\n",
        "\n",
        "Swap elements as necessary to place 0s, 1s, and 2s in their respective positions.\n",
        "\n",
        "Continue until mid crosses high."
      ],
      "metadata": {
        "id": "kgUCzUVHrOiy"
      }
    },
    {
      "cell_type": "code",
      "execution_count": 1,
      "metadata": {
        "colab": {
          "base_uri": "https://localhost:8080/"
        },
        "id": "NOsJb1Y7rBoi",
        "outputId": "6de96fbb-04af-47e6-f8dd-0a9e67bd147d"
      },
      "outputs": [
        {
          "output_type": "stream",
          "name": "stdout",
          "text": [
            "Original array: [0, 1, 2, 0, 1, 2, 1, 0, 2]\n",
            "Sorted array: [0, 0, 0, 1, 1, 1, 2, 2, 2]\n"
          ]
        }
      ],
      "source": [
        "class Solution:\n",
        "    def sort012(self, arr):\n",
        "        low, mid, high = 0, 0, len(arr) - 1\n",
        "\n",
        "        while mid <= high:\n",
        "            if arr[mid] == 0:\n",
        "                arr[low], arr[mid] = arr[mid], arr[low]\n",
        "                low += 1\n",
        "                mid += 1\n",
        "            elif arr[mid] == 1:\n",
        "                mid += 1\n",
        "            else:\n",
        "                arr[mid], arr[high] = arr[high], arr[mid]\n",
        "                high -= 1\n",
        "\n",
        "# Driver code\n",
        "if __name__ == \"__main__\":\n",
        "    solution = Solution()\n",
        "    arr = [0, 1, 2, 0, 1, 2, 1, 0, 2]\n",
        "    print(\"Original array:\", arr)\n",
        "    solution.sort012(arr)\n",
        "    print(\"Sorted array:\", arr)"
      ]
    }
  ]
}