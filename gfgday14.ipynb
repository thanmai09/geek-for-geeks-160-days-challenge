{
  "nbformat": 4,
  "nbformat_minor": 0,
  "metadata": {
    "colab": {
      "provenance": [],
      "authorship_tag": "ABX9TyNOHJLQOO0MVsutHP1hMQOl",
      "include_colab_link": true
    },
    "kernelspec": {
      "name": "python3",
      "display_name": "Python 3"
    },
    "language_info": {
      "name": "python"
    }
  },
  "cells": [
    {
      "cell_type": "markdown",
      "metadata": {
        "id": "view-in-github",
        "colab_type": "text"
      },
      "source": [
        "<a href=\"https://colab.research.google.com/github/thanmai09/geek-for-geeks-160-days-challenge/blob/main/gfgday14.ipynb\" target=\"_parent\"><img src=\"https://colab.research.google.com/assets/colab-badge.svg\" alt=\"Open In Colab\"/></a>"
      ]
    },
    {
      "cell_type": "markdown",
      "source": [
        "# **Implement Atoi**\n",
        "# Problem Description\n",
        "You are given a string s that represents a potential integer value. Your task is to implement the atoi() function, which converts the string to an integer, following these steps:\n",
        "\n",
        "1) Skip any leading whitespaces.\n",
        "\n",
        "2) Check for a sign (+ or -), default to positive if no sign is present.\n",
        "\n",
        "3) Read the integer by ignoring leading zeros until a non-digit character is encountered or end of the string is reached. If no digits are present, return 0\n",
        "\n",
        "4) Handle overflow: If the result exceeds the 32-bit signed integer range ([-2^31, 2^31 - 1]), return the appropriate bound.\n",
        "# Examples:\n",
        "Input:\n",
        "s = \"-123\"\n",
        "\n",
        "Output:\n",
        "-123\n",
        "\n",
        "Explanation:\n",
        "\n",
        "The string can be converted to the integer -123, which is within the 32-bit signed integer range.\n",
        "\n",
        "\n",
        "Input:\n",
        "s = \"  -\"\n",
        "\n",
        "Output:\n",
        "0\n",
        "\n",
        "Explanation:\n",
        "\n",
        "No digits are present after the sign, so the result is 0.\n",
        "\n",
        "Input:\n",
        "\n",
        "s = \" 1231231231311133\"\n",
        "\n",
        "Output:\n",
        "\n",
        "2147483647\n",
        "\n",
        "Explanation\n",
        "\n",
        "The string exceeds the maximum 32-bit signed integer, so the result is clamped to 2147483647.\n",
        "\n",
        "Input:\n",
        "\n",
        "s = \"-999999999999\"\n",
        "\n",
        "Output:\n",
        "\n",
        "-2147483648\n",
        "\n",
        "Explanation:\n",
        "\n",
        "The string is below the minimum 32-bit signed integer, so the result is clamped to -2147483648.\n",
        "\n",
        "Input:\n",
        "\n",
        "s = \"  -0012gfg4\"\n",
        "\n",
        "Output:\n",
        "-12\n",
        "\n",
        "Explanation:\n",
        "\n",
        "The string converts to -12, ignoring the non-digit character g."
      ],
      "metadata": {
        "id": "DxFjBabk37Bx"
      }
    },
    {
      "cell_type": "code",
      "execution_count": 1,
      "metadata": {
        "id": "T-w05PPY35nU",
        "colab": {
          "base_uri": "https://localhost:8080/"
        },
        "outputId": "8589f70c-8f8d-4659-902a-b46b80ddb405"
      },
      "outputs": [
        {
          "output_type": "stream",
          "name": "stdout",
          "text": [
            "myAtoi(\"42\") = 42\n",
            "myAtoi(\"   -42\") = -42\n",
            "myAtoi(\"4193 with words\") = 4193\n",
            "myAtoi(\"words and 987\") = 0\n",
            "myAtoi(\"-91283472332\") = -2147483648\n",
            "myAtoi(\"3.14159\") = 3\n",
            "myAtoi(\"   +0 123\") = 0\n",
            "myAtoi(\"\") = 0\n",
            "myAtoi(\"   \") = 0\n",
            "myAtoi(\"   -   42\") = 0\n"
          ]
        }
      ],
      "source": [
        "class Solution:\n",
        "    def myAtoi(self, s: str) -> int:\n",
        "        idx, sign, res = 0, 1, 0\n",
        "\n",
        "        while idx < len(s) and s[idx] == ' ':\n",
        "            idx += 1\n",
        "\n",
        "        if idx < len(s) and (s[idx] == '-' or s[idx] == '+'):\n",
        "            sign = -1 if s[idx] == '-' else 1\n",
        "            idx += 1\n",
        "\n",
        "        while idx < len(s) and '0' <= s[idx] <= '9':\n",
        "            res = res * 10 + (ord(s[idx]) - ord('0'))\n",
        "            idx += 1\n",
        "\n",
        "            if res * sign > 2**31 - 1:\n",
        "                return 2**31 - 1\n",
        "            if res * sign < -2**31:\n",
        "                return -2**31\n",
        "\n",
        "        return sign * res\n",
        "\n",
        "# Driver code to test the myAtoi function\n",
        "if __name__ == \"__main__\":\n",
        "    solution = Solution()\n",
        "\n",
        "    test_cases = [\n",
        "        \"42\",                # Expected output: 42\n",
        "        \"   -42\",           # Expected output: -42\n",
        "        \"4193 with words\",  # Expected output: 4193\n",
        "        \"words and 987\",    # Expected output: 0\n",
        "        \"-91283472332\",      # Expected output: -2147483648 (clamped)\n",
        "        \"3.14159\",          # Expected output: 3\n",
        "        \"   +0 123\",        # Expected output: 0\n",
        "        \"\",                  # Expected output: 0\n",
        "        \"   \",              # Expected output: 0\n",
        "        \"   -   42\",        # Expected output: 0\n",
        "    ]\n",
        "\n",
        "    for test in test_cases:\n",
        "        result = solution.myAtoi(test)\n",
        "        print(f'myAtoi(\"{test}\") = {result}')"
      ]
    }
  ]
}