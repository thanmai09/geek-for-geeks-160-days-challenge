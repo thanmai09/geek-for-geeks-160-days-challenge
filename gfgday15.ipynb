{
  "nbformat": 4,
  "nbformat_minor": 0,
  "metadata": {
    "colab": {
      "provenance": [],
      "authorship_tag": "ABX9TyP10x/r4uhKJkwX0+eME7wo",
      "include_colab_link": true
    },
    "kernelspec": {
      "name": "python3",
      "display_name": "Python 3"
    },
    "language_info": {
      "name": "python"
    }
  },
  "cells": [
    {
      "cell_type": "markdown",
      "metadata": {
        "id": "view-in-github",
        "colab_type": "text"
      },
      "source": [
        "<a href=\"https://colab.research.google.com/github/thanmai09/geek-for-geeks-160-days-challenge/blob/main/gfgday15.ipynb\" target=\"_parent\"><img src=\"https://colab.research.google.com/assets/colab-badge.svg\" alt=\"Open In Colab\"/></a>"
      ]
    },
    {
      "cell_type": "markdown",
      "source": [
        "# **Adding Binary Strings**\n",
        "# Problem Description\n",
        "You are given two binary strings s1 and s2 consisting of only 0s and 1s. Find the resultant string after adding the two binary strings. The input strings may contain leading zeros, but the output string should not have any leading zeros.\n",
        "\n",
        "# Examples:\n",
        "Input:\n",
        "s1 = \"1101\", s2 = \"111\"\n",
        "\n",
        "Output:\n",
        "\"10100\"\n",
        "\n",
        "Explanation:\n",
        "\n",
        " 1101\n",
        "+ 111\n",
        "—————\n",
        "10100\n",
        "Input:\n",
        "s1 = \"00100\", s2 = \"010\"\n",
        "Output:\n",
        "\"110\"\n",
        "\n",
        "Explanation:\n",
        "\n",
        " 100\n",
        "+ 10\n",
        " ———\n",
        " 110\n",
        "\n",
        "#My Approach:\n",
        "\n",
        "Binary Addition Logic:\n",
        "\n",
        "The problem is a standard binary addition problem. We will iterate through the two strings from right to left, adding corresponding bits and considering a carry.\n",
        "If both bits are 1, we set the sum bit to 0 and carry 1. If one bit is 1, the sum bit is 1 with no carry, and if both bits are 0, the sum bit is 0 with no carry.\n",
        "The process continues until all digits are processed, and the carry is added if necessary.\n",
        "Steps:\n",
        "\n",
        "Start from the rightmost bit of both strings, keeping track of any carry from the previous step.\n",
        "Add corresponding bits, including the carry, and append the result to a result string.\n",
        "Continue the process until both strings are exhausted.\n",
        "Reverse the result string (since we process from right to left) and remove any leading zeros."
      ],
      "metadata": {
        "id": "_1S19cUxtHRk"
      }
    },
    {
      "cell_type": "code",
      "execution_count": 1,
      "metadata": {
        "colab": {
          "base_uri": "https://localhost:8080/"
        },
        "id": "em5j8M-ptE0z",
        "outputId": "74017542-e84c-4fb8-bbf9-8b7e67d6620d"
      },
      "outputs": [
        {
          "output_type": "stream",
          "name": "stdout",
          "text": [
            "10101\n",
            "0\n",
            "1011\n",
            "1000\n",
            "1000\n"
          ]
        }
      ],
      "source": [
        "class Solution:\n",
        "    def addBinary(self, s1, s2):\n",
        "        i, j = len(s1) - 1, len(s2) - 1\n",
        "        carry = 0\n",
        "        result = []\n",
        "\n",
        "        while i >= 0 or j >= 0 or carry > 0:\n",
        "            sum_ = carry\n",
        "            if i >= 0:\n",
        "                sum_ += int(s1[i])\n",
        "                i -= 1\n",
        "            if j >= 0:\n",
        "                sum_ += int(s2[j])\n",
        "                j -= 1\n",
        "            result.append(str(sum_ % 2))\n",
        "            carry = sum_ // 2\n",
        "\n",
        "        result.reverse()\n",
        "        result_str = ''.join(result)\n",
        "        first_non_zero = result_str.find('1')\n",
        "        return result_str[first_non_zero:] if first_non_zero != -1 else \"0\"\n",
        "\n",
        "# Driver code to test the function\n",
        "if __name__ == \"__main__\":\n",
        "    solution = Solution()\n",
        "    # Test cases\n",
        "    print(solution.addBinary(\"1010\", \"1011\"))  # Output: \"10101\"\n",
        "    print(solution.addBinary(\"0\", \"0\"))        # Output: \"0\"\n",
        "    print(solution.addBinary(\"110\", \"101\"))    # Output: \"1011\"\n",
        "    print(solution.addBinary(\"111\", \"1\"))      # Output: \"1000\"\n",
        "    print(solution.addBinary(\"1\", \"111\"))      # Output: \"1000\""
      ]
    }
  ]
}