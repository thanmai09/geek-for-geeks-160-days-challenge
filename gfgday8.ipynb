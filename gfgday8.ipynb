{
  "nbformat": 4,
  "nbformat_minor": 0,
  "metadata": {
    "colab": {
      "provenance": [],
      "authorship_tag": "ABX9TyO2gChilcur4gZ+d2y96iBg",
      "include_colab_link": true
    },
    "kernelspec": {
      "name": "python3",
      "display_name": "Python 3"
    },
    "language_info": {
      "name": "python"
    }
  },
  "cells": [
    {
      "cell_type": "markdown",
      "metadata": {
        "id": "view-in-github",
        "colab_type": "text"
      },
      "source": [
        "<a href=\"https://colab.research.google.com/github/thanmai09/geek-for-geeks-160-days-challenge/blob/main/gfgday8.ipynb\" target=\"_parent\"><img src=\"https://colab.research.google.com/assets/colab-badge.svg\" alt=\"Open In Colab\"/></a>"
      ]
    },
    {
      "cell_type": "markdown",
      "source": [
        "# **🚀 Day 8. Stock Buy and Sell – Max one Transaction Allowed 🧠**\n",
        "# 💡 Problem Description:\n",
        "Given an array prices[] of length n, representing the prices of stocks on different days, find the maximum profit possible by buying and selling the stocks on different days, with at most one transaction allowed (1 buy + 1 sell). If no profit can be made, return 0.\n",
        "\n",
        "Note: Stocks must be bought before being sold.\n",
        "\n",
        "# 🔍 Example Walkthrough:\n",
        "Input:\n",
        "prices[] = [7, 10, 1, 3, 6, 9, 2]\n",
        "Output:\n",
        "8\n",
        "\n",
        "Explanation:\n",
        "Buy the stock on day 2 at price 1 and sell it on day 5 at price 9. Profit is 9 - 1 = 8.\n",
        "\n",
        "Input:\n",
        "prices[] = [7, 6, 4, 3, 1]\n",
        "Output:\n",
        "0\n",
        "\n",
        "Explanation:\n",
        "Prices decrease every day, so no profit is possible.\n",
        "\n",
        "Input:\n",
        "prices[] = [1, 3, 6, 9, 11]\n",
        "Output:\n",
        "10\n",
        "\n",
        "Explanation:\n",
        "Buy on day 1 (price = 1) and sell on the last day (price = 11). Profit is 11 - 1 = 10.\n",
        "\n",
        "Constraints:\n",
        "1 <= prices.size() <= 10^5\n",
        "0 <= prices[i] <= 10^4\n",
        "\n",
        "🎯 My Approach:\n",
        "\n",
        "-- One Pass Solution:\n",
        "\n",
        "Maintain a buyPrice to track the minimum price seen so far.\n",
        "Track maxProfit by comparing the current price's profit (currentPrice - buyPrice) to the previous maxProfit.\n",
        "Update buyPrice whenever a lower price is encountered.\n",
        "Steps:\n",
        "\n",
        "Start by initializing buyPrice as the first price and maxProfit as 0.\n",
        "Traverse the array and update buyPrice and maxProfit accordingly.\n",
        "The final maxProfit gives the maximum possible profit with one transaction."
      ],
      "metadata": {
        "id": "Y95v6p8M0JJk"
      }
    },
    {
      "cell_type": "code",
      "source": [
        "class Solution:\n",
        "    def maximumProfit(self, prices):\n",
        "        buyPrice = prices[0]\n",
        "        maxProfit = 0\n",
        "\n",
        "        for i in range(1, len(prices)):\n",
        "            if prices[i] > buyPrice:\n",
        "                maxProfit = max(maxProfit, prices[i] - buyPrice)\n",
        "            else:\n",
        "                buyPrice = prices[i]\n",
        "\n",
        "        return maxProfit\n",
        "\n",
        "# Driver code\n",
        "if __name__ == \"__main__\":\n",
        "    # Example list of prices\n",
        "    prices = [7, 1, 5, 3, 6, 4]\n",
        "\n",
        "    # Create an instance of the Solution class\n",
        "    solution = Solution()\n",
        "\n",
        "    # Call the maximumProfit method and print the result\n",
        "    result = solution.maximumProfit(prices)\n",
        "    print(f\"The maximum profit that can be achieved is: {result}\")"
      ],
      "metadata": {
        "colab": {
          "base_uri": "https://localhost:8080/"
        },
        "id": "jhtTlAkk0vI7",
        "outputId": "b0666460-2524-4c2c-c75b-67c14256f5dd"
      },
      "execution_count": 1,
      "outputs": [
        {
          "output_type": "stream",
          "name": "stdout",
          "text": [
            "The maximum profit that can be achieved is: 5\n"
          ]
        }
      ]
    }
  ]
}