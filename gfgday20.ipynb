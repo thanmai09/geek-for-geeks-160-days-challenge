{
  "nbformat": 4,
  "nbformat_minor": 0,
  "metadata": {
    "colab": {
      "provenance": [],
      "authorship_tag": "ABX9TyNCaHaRvYtYFGP19+xzFrbx",
      "include_colab_link": true
    },
    "kernelspec": {
      "name": "python3",
      "display_name": "Python 3"
    },
    "language_info": {
      "name": "python"
    }
  },
  "cells": [
    {
      "cell_type": "markdown",
      "metadata": {
        "id": "view-in-github",
        "colab_type": "text"
      },
      "source": [
        "<a href=\"https://colab.research.google.com/github/thanmai09/geek-for-geeks-160-days-challenge/blob/main/gfgday20.ipynb\" target=\"_parent\"><img src=\"https://colab.research.google.com/assets/colab-badge.svg\" alt=\"Open In Colab\"/></a>"
      ]
    },
    {
      "cell_type": "markdown",
      "source": [
        "# Day 20. Strings Rotations of Each Other\n",
        "# Problem Description\n",
        "You are given two strings of equal lengths, s1 and s2. The task is to check if s2 is a rotated version of s1.\n",
        "Rotation means that the string s2 can be formed by shifting the characters of s1 cyclically.\n",
        "\n",
        "Note: The characters in the strings are in lowercase.\n",
        "#Examples:\n",
        "Input:\n",
        "s1 = \"abcd\", s2 = \"cdab\"\n",
        "Output:\n",
        "true\n",
        "\n",
        "Explanation:\n",
        "After two right rotations, s1 becomes equal to s2.\n",
        "\n",
        "Input:\n",
        "s1 = \"aab\", s2 = \"aba\"\n",
        "Output:\n",
        "true\n",
        "\n",
        "Explanation:\n",
        "After one left rotation, s1 becomes equal to s2.\n",
        "\n",
        "Input:\n",
        "s1 = \"abcd\", s2 = \"acbd\"\n",
        "Output:\n",
        "false\n",
        "\n",
        "Explanation:\n",
        "The strings are not rotations of each other.\n",
        "\n",
        "# My Approach\n",
        "\n",
        "- String Concatenation and Substring Check:\n",
        "\n",
        "The solution relies on the fact that a rotated version of s1 will always be a substring of s1 + s1.\n",
        "\n",
        "By concatenating s1 with itself, all possible rotations of s1 are included in the resulting string.\n",
        "\n",
        "Then, we check if s2 is a substring of the concatenated string.\n",
        "- Edge Cases:\n",
        "\n",
        "If the lengths of s1 and s2 are different, they cannot be rotations.\n",
        "\n",
        "Strings with only one character are trivially rotations if they are equal.\n",
        "\n",
        "- Steps:\n",
        "\n",
        "Check if the lengths of s1 and s2 are equal.\n",
        "\n",
        "Concatenate s1 with itself to create a new string.\n",
        "\n",
        "Use efficient substring search techniques like strstr or KMP to check if s2 is present in the concatenated string.\n"
      ],
      "metadata": {
        "id": "57ykRI7hhIAX"
      }
    },
    {
      "cell_type": "code",
      "execution_count": 1,
      "metadata": {
        "colab": {
          "base_uri": "https://localhost:8080/"
        },
        "id": "q2ly2ayrhFWH",
        "outputId": "6be91d25-f20f-470f-e4a1-6ca336341ccd"
      },
      "outputs": [
        {
          "output_type": "stream",
          "name": "stdout",
          "text": [
            "areRotations('abcde', 'cdeab') = True\n",
            "areRotations('abcde', 'abced') = False\n",
            "areRotations('', '') = True\n",
            "areRotations('a', 'a') = True\n",
            "areRotations('a', 'b') = False\n",
            "areRotations('hello', 'llohe') = True\n",
            "areRotations('hello', 'ohell') = True\n"
          ]
        }
      ],
      "source": [
        "class Solution:\n",
        "    def areRotations(self, s1, s2):\n",
        "        if len(s1) != len(s2):\n",
        "            return False\n",
        "        temp = s1 + s1\n",
        "        return s2 in temp\n",
        "\n",
        "# Driver code to test the function\n",
        "if __name__ == \"__main__\":\n",
        "    solution = Solution()\n",
        "\n",
        "    # Test cases\n",
        "    test_cases = [\n",
        "        (\"abcde\", \"cdeab\"),  # True\n",
        "        (\"abcde\", \"abced\"),  # False\n",
        "        (\"\", \"\"),            # True\n",
        "        (\"a\", \"a\"),          # True\n",
        "        (\"a\", \"b\"),          # False\n",
        "        (\"hello\", \"llohe\"),  # True\n",
        "        (\"hello\", \"ohell\"),  # False\n",
        "    ]\n",
        "\n",
        "    for s1, s2 in test_cases:\n",
        "        result = solution.areRotations(s1, s2)\n",
        "        print(f\"areRotations('{s1}', '{s2}') = {result}\")"
      ]
    }
  ]
}