{
  "nbformat": 4,
  "nbformat_minor": 0,
  "metadata": {
    "colab": {
      "provenance": [],
      "authorship_tag": "ABX9TyNrnZal1U6k7MJpGKV2vzh8",
      "include_colab_link": true
    },
    "kernelspec": {
      "name": "python3",
      "display_name": "Python 3"
    },
    "language_info": {
      "name": "python"
    }
  },
  "cells": [
    {
      "cell_type": "markdown",
      "metadata": {
        "id": "view-in-github",
        "colab_type": "text"
      },
      "source": [
        "<a href=\"https://colab.research.google.com/github/thanmai09/geek-for-geeks-160-days-challenge/blob/main/gfgday5.ipynb\" target=\"_parent\"><img src=\"https://colab.research.google.com/assets/colab-badge.svg\" alt=\"Open In Colab\"/></a>"
      ]
    },
    {
      "cell_type": "markdown",
      "source": [
        "# **🚀 Day 5. Next Permutation 🧠**\n",
        "# 💡 Problem Description:\n",
        "Given an array of integers arr[] representing a permutation, implement the next permutation that rearranges the numbers into the lexicographically next greater permutation. If no such permutation exists, rearrange the numbers into the lowest possible order (i.e., sorted in ascending order).\n",
        "\n",
        "Note: A permutation of n numbers is any possible arrangement of all the integers in the range [1, n], where each integer occurs exactly once.\n",
        "\n",
        "# Example Walkthrough:\n",
        "Input:\n",
        "arr = [2, 4, 1, 7, 5, 0]\n",
        "Output:\n",
        "[2, 4, 5, 0, 1, 7]\n",
        "\n",
        "Explanation:\n",
        "The next permutation of the given array is [2, 4, 5, 0, 1, 7].\n",
        "\n",
        "Input:\n",
        "arr = [3, 2, 1]\n",
        "Output:\n",
        "[1, 2, 3]\n",
        "\n",
        "Explanation:\n",
        "As arr[] is the last permutation, the next permutation is the lowest one.\n",
        "\n",
        "Input:\n",
        "arr = [3, 4, 2, 5, 1]\n",
        "Output:\n",
        "[3, 4, 5, 1, 2]\n",
        "\n",
        "Explanation:\n",
        "The next permutation of the given array is [3, 4, 5, 1, 2].\n",
        "\n",
        "Constraints:\n",
        "1 ≤ arr.size() ≤ 10^5\n",
        "1 ≤ arr[i] ≤ 10^5\n",
        "\n",
        "🎯 My Approach:\n",
        "1 Identify the Pivot:\n",
        "\n",
        "Start from the rightmost side of the array and find the first index i such that arr[i] < arr[i+1].\n",
        "This index i is the pivot where the next permutation needs to be modified.\n",
        "Swap with Successor:\n",
        "\n",
        "Find the smallest element on the right of i that is greater than arr[i] and swap them. This ensures the permutation becomes lexicographically larger.\n",
        "Reverse the Suffix:\n",
        "\n",
        "Reverse the elements from i+1 to the end of the array to get the next smallest permutation."
      ],
      "metadata": {
        "id": "wkYMbAgHE3_6"
      }
    },
    {
      "cell_type": "code",
      "execution_count": 1,
      "metadata": {
        "colab": {
          "base_uri": "https://localhost:8080/"
        },
        "id": "zNUYNpp_EvkO",
        "outputId": "dd4c4a8a-63aa-4875-8448-252ea2ed0b08"
      },
      "outputs": [
        {
          "output_type": "stream",
          "name": "stdout",
          "text": [
            "Next permutation: [1, 3, 2]\n"
          ]
        }
      ],
      "source": [
        "class Solution:\n",
        "    def nextPermutation(self, arr):\n",
        "        n = len(arr)\n",
        "        i = n - 2\n",
        "\n",
        "        # Step 1: Find the first decreasing element from the end\n",
        "        while i >= 0 and arr[i] >= arr[i + 1]:\n",
        "            i -= 1\n",
        "\n",
        "        if i >= 0:\n",
        "            j = n - 1\n",
        "\n",
        "            # Step 2: Find the next bigger element from the end\n",
        "            while arr[j] <= arr[i]:\n",
        "                j -= 1\n",
        "\n",
        "            # Step 3: Swap\n",
        "            arr[i], arr[j] = arr[j], arr[i]\n",
        "\n",
        "        # Step 4: Reverse the suffix\n",
        "        arr[i + 1:] = reversed(arr[i + 1:])\n",
        "\n",
        "# Example usage\n",
        "arr = [1, 2, 3]\n",
        "Solution().nextPermutation(arr)\n",
        "print(\"Next permutation:\", arr)  # Output: [1, 3, 2]\n"
      ]
    }
  ]
}