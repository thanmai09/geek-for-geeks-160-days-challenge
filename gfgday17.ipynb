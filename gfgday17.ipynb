{
  "nbformat": 4,
  "nbformat_minor": 0,
  "metadata": {
    "colab": {
      "provenance": [],
      "authorship_tag": "ABX9TyPXSgJi1LMQbW2oYkqkGoKJ",
      "include_colab_link": true
    },
    "kernelspec": {
      "name": "python3",
      "display_name": "Python 3"
    },
    "language_info": {
      "name": "python"
    }
  },
  "cells": [
    {
      "cell_type": "markdown",
      "metadata": {
        "id": "view-in-github",
        "colab_type": "text"
      },
      "source": [
        "<a href=\"https://colab.research.google.com/github/thanmai09/geek-for-geeks-160-days-challenge/blob/main/gfgday17.ipynb\" target=\"_parent\"><img src=\"https://colab.research.google.com/assets/colab-badge.svg\" alt=\"Open In Colab\"/></a>"
      ]
    },
    {
      "cell_type": "markdown",
      "source": [
        "# **🚀 Day 17. Non-Repeating Character 🧠**\n",
        "# 💡 Problem Breakdown:\n",
        "Given a string s consisting of lowercase Latin letters, return the first non-repeating character in s. If there is no non-repeating character, return '$'.\n",
        "\n",
        "Note: When you return '$', the driver code will output -1.\n",
        "\n",
        "# 🔍 Example Walkthrough:\n",
        "\n",
        "Input:\n",
        "s = \"geeksforgeeks\"\n",
        "Output:\n",
        "'f'\n",
        "\n",
        "Explanation:\n",
        "\n",
        "In the given string, 'f' is the first character in the string which does not repeat.\n",
        "\n",
        "Input:\n",
        "s = \"racecar\"\n",
        "Output:\n",
        "'e'\n",
        "\n",
        "Explanation:\n",
        "\n",
        "In the given string, 'e' is the only character in the string which does not repeat.\n",
        "\n",
        "Input:\n",
        "s = \"aabbccc\"\n",
        "Output:\n",
        "-1\n",
        "\n",
        "Explanation:\n",
        "\n",
        "All the characters in the given string are repeating.\n",
        "\n",
        "#🎯 My Approach:\n",
        "\n",
        "- Frequency Array Method:\n",
        "\n",
        "Since the input consists only of lowercase Latin letters, a frequency array of size 26 is sufficient to count occurrences of each character.\n",
        "\n",
        "Traverse the string once to update the frequency of each character in the array.\n",
        "Traverse the string a second time to identify the first character with a frequency of 1.\n",
        "\n",
        "- Steps:\n",
        "\n",
        "Initialize a frequency array freq[26] and set all elements to 0.\n",
        "\n",
        "For each character in the string, increment its corresponding frequency in the array.\n",
        "\n",
        "Iterate through the string again, checking for the first character with a frequency of 1.\n",
        "\n",
        "If no such character exists, return '$'."
      ],
      "metadata": {
        "id": "TDJ1jDgk9Ppu"
      }
    },
    {
      "cell_type": "code",
      "execution_count": 1,
      "metadata": {
        "colab": {
          "base_uri": "https://localhost:8080/"
        },
        "id": "mcEq2ACc9N4T",
        "outputId": "25ee5a40-49a9-4346-eecd-9c22b56dd400"
      },
      "outputs": [
        {
          "output_type": "stream",
          "name": "stdout",
          "text": [
            "First non-repeating character in 'geeksforgeeks': f\n",
            "First non-repeating character in 'aabbcc': $\n",
            "First non-repeating character in 'swiss': w\n",
            "First non-repeating character in 'hello': h\n",
            "First non-repeating character in 'aabbccddeeffg': g\n"
          ]
        }
      ],
      "source": [
        "class Solution:\n",
        "    def nonRepeatingChar(self, s):\n",
        "        freq = [0] * 26\n",
        "        for c in s:\n",
        "            freq[ord(c) - ord('a')] += 1\n",
        "        for c in s:\n",
        "            if freq[ord(c) - ord('a')] == 1:\n",
        "                return c\n",
        "        return '$'\n",
        "\n",
        "# Driver code to test the function\n",
        "if __name__ == \"__main__\":\n",
        "    solution = Solution()\n",
        "\n",
        "    # Test cases\n",
        "    test_strings = [\n",
        "        \"geeksforgeeks\",  # Expected output: 'f'\n",
        "        \"aabbcc\",         # Expected output: '$'\n",
        "        \"swiss\",          # Expected output: 'w'\n",
        "        \"hello\",          # Expected output: 'h'\n",
        "        \"aabbccddeeffg\"   # Expected output: 'g'\n",
        "    ]\n",
        "\n",
        "    for test in test_strings:\n",
        "        result = solution.nonRepeatingChar(test)\n",
        "        print(f\"First non-repeating character in '{test}': {result}\")"
      ]
    }
  ]
}