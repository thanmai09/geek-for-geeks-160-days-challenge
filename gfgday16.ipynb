{
  "nbformat": 4,
  "nbformat_minor": 0,
  "metadata": {
    "colab": {
      "provenance": [],
      "authorship_tag": "ABX9TyNMwbBX3699WHWtbOeDaDsv",
      "include_colab_link": true
    },
    "kernelspec": {
      "name": "python3",
      "display_name": "Python 3"
    },
    "language_info": {
      "name": "python"
    }
  },
  "cells": [
    {
      "cell_type": "markdown",
      "metadata": {
        "id": "view-in-github",
        "colab_type": "text"
      },
      "source": [
        "<a href=\"https://colab.research.google.com/github/thanmai09/geek-for-geeks-160-days-challenge/blob/main/gfgday16.ipynb\" target=\"_parent\"><img src=\"https://colab.research.google.com/assets/colab-badge.svg\" alt=\"Open In Colab\"/></a>"
      ]
    },
    {
      "cell_type": "markdown",
      "source": [
        "# **🚀 Day 16. Anagram 🧠**\n",
        "# 💡 Problem Description:\n",
        "You are given two strings s1 and s2, both consisting of lowercase alphabets. Your task is to check whether the two strings are anagrams of each other. Two strings are anagrams if they contain the same characters, but the order of characters may differ.\n",
        "\n",
        "# 🔍 Example Walkthrough:\n",
        "Input:\n",
        "s1 = \"geeks\", s2 = \"kseeg\"\n",
        "\n",
        "Output:\n",
        "true\n",
        "\n",
        "Explanation:\n",
        "\n",
        "Both strings contain the same characters with the same frequency, so they are anagrams.\n",
        "\n",
        "Input:\n",
        "s1 = \"allergy\", s2 = \"allergic\"\n",
        "\n",
        "Output:\n",
        "\n",
        "false\n",
        "\n",
        "The characters in both strings are not the same, so they are not anagrams.\n",
        "\n",
        "Input:\n",
        "s1 = \"g\", s2 = \"g\"\n",
        "\n",
        "Output:\n",
        "true\n",
        "\n",
        "Explanation:\n",
        "\n",
        "Both strings contain the same character, so they are anagrams.\n",
        "# 🎯 My Approach:\n",
        "- Character Counting:\n",
        "\n",
        "Since anagrams contain the same characters with the same frequency, we can compare the frequency of characters in both strings.\n",
        "To do this efficiently, we use an array of size 26 (for the 26 lowercase letters) to count the frequency of characters in both strings.\n",
        "The idea is to increment the count for characters in s1 and decrement the count for characters in s2. If the counts match after processing both strings, the strings are anagrams.\n",
        "\n",
        "- Steps:\n",
        "\n",
        "Check if both strings have the same length.\n",
        "\n",
        " If not, they cannot be anagrams.\n",
        "\n",
        "Iterate through the strings and update the frequency count for each character.\n",
        "\n",
        "After processing both strings, check if all the counts are zero. If they are, return true; otherwise, return false."
      ],
      "metadata": {
        "id": "94TwzLE_84pk"
      }
    },
    {
      "cell_type": "code",
      "execution_count": 1,
      "metadata": {
        "colab": {
          "base_uri": "https://localhost:8080/"
        },
        "id": "88Bg6ikE82ha",
        "outputId": "0b4afca1-1df0-4c71-ba9f-acdb44676c8e"
      },
      "outputs": [
        {
          "output_type": "stream",
          "name": "stdout",
          "text": [
            "areAnagrams('listen', 'silent') = True\n",
            "areAnagrams('triangle', 'integral') = True\n",
            "areAnagrams('apple', 'pale') = False\n",
            "areAnagrams('rat', 'car') = False\n",
            "areAnagrams('evil', 'vile') = True\n",
            "areAnagrams('fluster', 'restful') = True\n",
            "areAnagrams('abc', 'cba') = True\n",
            "areAnagrams('abcd', 'abcde') = False\n"
          ]
        }
      ],
      "source": [
        "class Solution:\n",
        "    def areAnagrams(self, s1, s2):\n",
        "        if len(s1) != len(s2):\n",
        "            return False\n",
        "\n",
        "        counts = [0] * 26\n",
        "        for i in range(len(s1)):\n",
        "            counts[ord(s1[i]) - ord('a')] += 1\n",
        "            counts[ord(s2[i]) - ord('a')] -= 1\n",
        "\n",
        "        for count in counts:\n",
        "            if count != 0:\n",
        "                return False\n",
        "\n",
        "        return True\n",
        "\n",
        "# Driver code\n",
        "if __name__ == \"__main__\":\n",
        "    solution = Solution()\n",
        "\n",
        "    # Test cases\n",
        "    test_cases = [\n",
        "        (\"listen\", \"silent\"),  # Anagrams\n",
        "        (\"triangle\", \"integral\"),  # Anagrams\n",
        "        (\"apple\", \"pale\"),  # Not anagrams\n",
        "        (\"rat\", \"car\"),  # Not anagrams\n",
        "        (\"evil\", \"vile\"),  # Anagrams\n",
        "        (\"fluster\", \"restful\"),  # Anagrams\n",
        "        (\"abc\", \"cba\"),  # Anagrams\n",
        "        (\"abcd\", \"abcde\"),  # Not anagrams\n",
        "    ]\n",
        "\n",
        "    for s1, s2 in test_cases:\n",
        "        result = solution.areAnagrams(s1, s2)\n",
        "        print(f\"areAnagrams('{s1}', '{s2}') = {result}\")"
      ]
    }
  ]
}