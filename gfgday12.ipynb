{
  "nbformat": 4,
  "nbformat_minor": 0,
  "metadata": {
    "colab": {
      "provenance": [],
      "authorship_tag": "ABX9TyOfZ4+/VJZQKmEhGQETUIdL",
      "include_colab_link": true
    },
    "kernelspec": {
      "name": "python3",
      "display_name": "Python 3"
    },
    "language_info": {
      "name": "python"
    }
  },
  "cells": [
    {
      "cell_type": "markdown",
      "metadata": {
        "id": "view-in-github",
        "colab_type": "text"
      },
      "source": [
        "<a href=\"https://colab.research.google.com/github/thanmai09/geek-for-geeks-160-days-challenge/blob/main/gfgday12.ipynb\" target=\"_parent\"><img src=\"https://colab.research.google.com/assets/colab-badge.svg\" alt=\"Open In Colab\"/></a>"
      ]
    },
    {
      "cell_type": "markdown",
      "source": [
        "## **🚀** Day 12. Max Circular Subarray Sum 🧠\n",
        "# 💡 Problem Description:\n",
        "\n",
        "Given an array of integers arr[] in a circular fashion, return the maximum sum of a subarray that can be obtained assuming the array is circular.\n",
        "\n",
        "Note: The solution should account for both regular and circular subarrays.\n",
        "\n",
        "# 🔍 Example Walkthrough:\n",
        "Input:\n",
        "arr[] = [8, -8, 9, -9, 10, -11, 12]\n",
        "\n",
        "Output:\n",
        "22\n",
        "\n",
        "Explanation:\n",
        "\n",
        "Starting from the last element of the array, i.e., 12, and moving in a circular fashion, the maximum subarray is [12, 8, -8, 9, -9, 10], which gives the maximum sum of 22.\n",
        "\n",
        "Input:\n",
        "arr[] = [10, -3, -4, 7, 6, 5, -4, -1]\n",
        "\n",
        "Output:\n",
        "23\n",
        "\n",
        "Explanation:\n",
        "Maximum sum of the circular subarray is 23. The subarray is [7, 6, 5, -4, -1, 10].\n",
        "\n"
      ],
      "metadata": {
        "id": "6zYfCV4PExSX"
      }
    },
    {
      "cell_type": "code",
      "execution_count": 1,
      "metadata": {
        "colab": {
          "base_uri": "https://localhost:8080/"
        },
        "id": "hfIadbLyEsNL",
        "outputId": "d529dc6f-fd2e-4610-bd12-ab7ae5eb418c"
      },
      "outputs": [
        {
          "output_type": "stream",
          "name": "stdout",
          "text": [
            "Array: [1, -2, 3, 4, -5] => Maximum Circular Subarray Sum: 7\n",
            "Array: [-1, -2, -3, -4] => Maximum Circular Subarray Sum: -1\n",
            "Array: [8, -1, 3, 4] => Maximum Circular Subarray Sum: 15\n",
            "Array: [5, -2, 3, 4, -1] => Maximum Circular Subarray Sum: 11\n",
            "Array: [1, 2, 3, 4, 5] => Maximum Circular Subarray Sum: 15\n",
            "Array: [-2, -3, -1, -4] => Maximum Circular Subarray Sum: -1\n",
            "Array: [3, -2, 2, -1] => Maximum Circular Subarray Sum: 4\n"
          ]
        }
      ],
      "source": [
        "def circularSubarraySum(arr):\n",
        "    total_sum = 0\n",
        "    max_sum = float('-inf')\n",
        "    min_sum = float('inf')\n",
        "    curr_max = 0\n",
        "    curr_min = 0\n",
        "    all_negative = True\n",
        "\n",
        "    for num in arr:\n",
        "        total_sum += num\n",
        "\n",
        "        curr_max = max(num, curr_max + num)\n",
        "        max_sum = max(max_sum, curr_max)\n",
        "\n",
        "        curr_min = min(num, curr_min + num)\n",
        "        min_sum = min(min_sum, curr_min)\n",
        "\n",
        "        if num > 0:\n",
        "            all_negative = False\n",
        "\n",
        "    if all_negative:\n",
        "        return max_sum\n",
        "\n",
        "    return max(max_sum, total_sum - min_sum)\n",
        "\n",
        "# Driver code to test the function\n",
        "if __name__ == \"__main__\":\n",
        "    # Test cases\n",
        "    test_arrays = [\n",
        "        [1, -2, 3, 4, -5],  # Normal case\n",
        "        [-1, -2, -3, -4],   # All negative\n",
        "        [8, -1, 3, 4],      # Mixed positive and negative\n",
        "        [5, -2, 3, 4, -1],  # Mixed with circular subarray\n",
        "        [1, 2, 3, 4, 5],    # All positive\n",
        "        [-2, -3, -1, -4],   # All negative\n",
        "        [3, -2, 2, -1],     # Mixed with circular subarray\n",
        "    ]\n",
        "\n",
        "    for arr in test_arrays:\n",
        "        result = circularSubarraySum(arr)\n",
        "        print(f\"Array: {arr} => Maximum Circular Subarray Sum: {result}\")"
      ]
    }
  ]
}