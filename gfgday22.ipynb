{
  "nbformat": 4,
  "nbformat_minor": 0,
  "metadata": {
    "colab": {
      "provenance": [],
      "authorship_tag": "ABX9TyOZOPDvY0DEAkwkFkwiCBlV",
      "include_colab_link": true
    },
    "kernelspec": {
      "name": "python3",
      "display_name": "Python 3"
    },
    "language_info": {
      "name": "python"
    }
  },
  "cells": [
    {
      "cell_type": "markdown",
      "metadata": {
        "id": "view-in-github",
        "colab_type": "text"
      },
      "source": [
        "<a href=\"https://colab.research.google.com/github/thanmai09/geek-for-geeks-160-days-challenge/blob/main/gfgday22.ipynb\" target=\"_parent\"><img src=\"https://colab.research.google.com/assets/colab-badge.svg\" alt=\"Open In Colab\"/></a>"
      ]
    },
    {
      "cell_type": "markdown",
      "source": [],
      "metadata": {
        "id": "VnI-PfzCuQ90"
      }
    },
    {
      "cell_type": "markdown",
      "source": [
        "# **🚀 Day 2. Find H-Index 🧠**\n",
        "# 💡 Problem Description:\n",
        "You are given an array of integers citations[], where citations[i] is the number of citations a researcher received for the i-th paper. Your task is to find the H-Index of the researcher.\n",
        "\n",
        "H-Index is the largest value H such that the researcher has at least H papers that have been cited at least H times.\n",
        "\n",
        "# 🔍 Example Walkthrough:\n",
        "Input:\n",
        "\n",
        "citations[] = [3, 0, 5, 3, 0]\n",
        "\n",
        "Output:\n",
        "\n",
        "3\n",
        "\n",
        "Explanation:\n",
        "\n",
        "There are at least 3 papers (with 3, 5, and 3 citations) that have been cited at least 3 times.\n",
        "\n",
        "Input:\n",
        "\n",
        "citations[] = [5, 1, 2, 4, 1]\n",
        "\n",
        "Output:\n",
        "\n",
        "2\n",
        "\n",
        "Explanation:\n",
        "\n",
        "There are at least 2 papers (with 5 and 4 citations) that have been cited at least 2 times.\n",
        "\n",
        "Input:\n",
        "\n",
        "citations[] = [0, 0]\n",
        "\n",
        "Output:\n",
        "\n",
        "0\n",
        "\n",
        "Explanation:\n",
        "\n",
        "No paper has been cited at least once.\n",
        "# 🎯 My Approach:\n",
        "- Bucket Sort Method:\n",
        "\n",
        "We create an array buckets[] where buckets[i] stores the count of papers with exactly i citations.\n",
        "\n",
        "If a paper has citations greater than or equal to the number of papers, it is counted in a special buckets[n].\n",
        "\n",
        "After building the bucket, we compute the cumulative count of papers with at least i citations to determine the H-Index.\n",
        "\n",
        "- Steps:\n",
        "\n",
        "Traverse the citations[] array to populate the buckets[].\n",
        "\n",
        "Traverse the buckets[] array from the back to compute the cumulative counts and find the H-Index.\n",
        "\n",
        "This approach ensures a linear time complexity.\n"
      ],
      "metadata": {
        "id": "CU5BJ-kmuRAG"
      }
    },
    {
      "cell_type": "code",
      "execution_count": 1,
      "metadata": {
        "colab": {
          "base_uri": "https://localhost:8080/"
        },
        "id": "u0fp37o-uQRv",
        "outputId": "cbe6570e-4b3f-408b-d3be-18c1e1b19543"
      },
      "outputs": [
        {
          "output_type": "stream",
          "name": "stdout",
          "text": [
            "citations: [3, 0, 6, 1, 5], expected: 3, got: 3\n",
            "citations: [1, 3, 1], expected: 1, got: 1\n",
            "citations: [0, 0, 0], expected: 0, got: 0\n",
            "citations: [5, 5, 5, 5], expected: 4, got: 4\n",
            "citations: [10, 8, 5, 4, 3], expected: 4, got: 4\n",
            "citations: [1, 2, 3, 4, 5], expected: 3, got: 3\n",
            "citations: [6, 6, 6, 6, 6], expected: 5, got: 5\n",
            "citations: [0], expected: 0, got: 0\n",
            "citations: [1], expected: 1, got: 1\n"
          ]
        }
      ],
      "source": [
        "class Solution:\n",
        "    def hIndex(self, citations):\n",
        "        n = len(citations)\n",
        "        buckets = [0] * (n + 1)\n",
        "\n",
        "        for c in citations:\n",
        "            if c >= n:\n",
        "                buckets[n] += 1\n",
        "            else:\n",
        "                buckets[c] += 1\n",
        "\n",
        "        cumulative = 0\n",
        "        for i in range(n, -1, -1):\n",
        "            cumulative += buckets[i]\n",
        "            if cumulative >= i:\n",
        "                return i\n",
        "        return 0\n",
        "\n",
        "# Driver code\n",
        "if __name__ == \"__main__\":\n",
        "    solution = Solution()\n",
        "\n",
        "    # Test cases\n",
        "    test_cases = [\n",
        "        ([3, 0, 6, 1, 5], 3),  # Example case\n",
        "        ([1, 3, 1], 1),        # H-Index is 1\n",
        "        ([0, 0, 0], 0),        # No citations\n",
        "        ([5, 5, 5, 5], 4),     # H-Index is 4\n",
        "        ([10, 8, 5, 4, 3], 4), # H-Index is 4\n",
        "        ([1, 2, 3, 4, 5], 3),  # H-Index is 3\n",
        "        ([6, 6, 6, 6, 6], 5),  # H-Index is 5\n",
        "        ([0], 0),              # Single paper with 0 citations\n",
        "        ([1], 1),              # Single paper with 1 citation\n",
        "    ]\n",
        "\n",
        "    for citations, expected in test_cases:\n",
        "        result = solution.hIndex(citations)\n",
        "        print(f\"citations: {citations}, expected: {expected}, got: {result}\")"
      ]
    }
  ]
}