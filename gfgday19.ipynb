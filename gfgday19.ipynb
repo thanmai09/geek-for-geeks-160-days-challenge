{
  "nbformat": 4,
  "nbformat_minor": 0,
  "metadata": {
    "colab": {
      "provenance": [],
      "authorship_tag": "ABX9TyPk2bhE967H7kbZuOpgOGK9",
      "include_colab_link": true
    },
    "kernelspec": {
      "name": "python3",
      "display_name": "Python 3"
    },
    "language_info": {
      "name": "python"
    }
  },
  "cells": [
    {
      "cell_type": "markdown",
      "metadata": {
        "id": "view-in-github",
        "colab_type": "text"
      },
      "source": [
        "<a href=\"https://colab.research.google.com/github/thanmai09/geek-for-geeks-160-days-challenge/blob/main/gfgday19.ipynb\" target=\"_parent\"><img src=\"https://colab.research.google.com/assets/colab-badge.svg\" alt=\"Open In Colab\"/></a>"
      ]
    },
    {
      "cell_type": "markdown",
      "source": [
        "# **Min Chars to Add for Palindrome**\n",
        "# Problem Description\n",
        "Given a string s, find the minimum number of characters to be added at the front of the string to make it a palindrome.\n",
        "\n",
        "A palindrome string is a sequence of characters that reads the same forward and backward.\n",
        "\n",
        "# Examples:\n",
        "Input:\n",
        "s = \"abc\"\n",
        "\n",
        "Output:\n",
        "2\n",
        "\n",
        "Explanation:\n",
        "\n",
        "Add b and c to the front to make the string a palindrome: \"cbabc\"\n",
        "\n",
        "\n",
        "Input:\n",
        "s = \"aacecaaaa\"\n",
        "\n",
        "Output:\n",
        "2\n",
        "\n",
        "Explanation:\n",
        "\n",
        "Add aa at the front to make the string a palindrome: \"aaaacecaaaa\"\n",
        "\n",
        "#Constraints:\n",
        "\n",
        "1 <= s.size() <= 10^6\n",
        "#My Approach#\n",
        "\n",
        "- Key Idea:\n",
        "The solution relies on combining the given string with its reverse using a separator (e.g., $) and computing the Longest Prefix Suffix (LPS) array for this combined string.\n",
        "\n",
        "The last value in the LPS array gives the length of the longest palindromic suffix in the original string. Subtracting this value from the length of the original string provides the minimum number of characters to be added."
      ],
      "metadata": {
        "id": "RHJlDxM8UMrN"
      }
    },
    {
      "cell_type": "code",
      "execution_count": 2,
      "metadata": {
        "colab": {
          "base_uri": "https://localhost:8080/"
        },
        "id": "3tAcJtH7ULvg",
        "outputId": "6961224d-3c9b-4e0c-bba6-3c8c6991fb4d"
      },
      "outputs": [
        {
          "output_type": "stream",
          "name": "stdout",
          "text": [
            "Minimum characters to add to make 'abc' a palindrome: 2\n",
            "Minimum characters to add to make 'aacecaaa' a palindrome: 1\n",
            "Minimum characters to add to make 'abcd' a palindrome: 3\n"
          ]
        }
      ],
      "source": [
        "class Solution:\n",
        "    def minChar(self, s):\n",
        "        n = len(s)\n",
        "\n",
        "        rev_str = s[::-1]\n",
        "\n",
        "        combined = s + \"$\" + rev_str\n",
        "\n",
        "        lps = [0] * len(combined)\n",
        "        for i in range(1, len(combined)):\n",
        "            j = lps[i - 1]\n",
        "            while j > 0 and combined[i] != combined[j]:\n",
        "                j = lps[j - 1]\n",
        "            if combined[i] == combined[j]:\n",
        "                j += 1\n",
        "            lps[i] = j\n",
        "\n",
        "        return n - lps[-1]\n",
        "\n",
        "# Driver code to test the function\n",
        "if __name__ == \"__main__\":\n",
        "    solution = Solution()\n",
        "    test_string = \"abc\"\n",
        "    print(f\"Minimum characters to add to make '{test_string}' a palindrome: {solution.minChar(test_string)}\")\n",
        "\n",
        "    test_string = \"aacecaaa\"\n",
        "    print(f\"Minimum characters to add to make '{test_string}' a palindrome: {solution.minChar(test_string)}\")\n",
        "\n",
        "    test_string = \"abcd\"\n",
        "    print(f\"Minimum characters to add to make '{test_string}' a palindrome: {solution.minChar(test_string)}\")"
      ]
    }
  ]
}