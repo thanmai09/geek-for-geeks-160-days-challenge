{
  "nbformat": 4,
  "nbformat_minor": 0,
  "metadata": {
    "colab": {
      "provenance": [],
      "authorship_tag": "ABX9TyNK4bOOW156cdCkFXTXReUJ",
      "include_colab_link": true
    },
    "kernelspec": {
      "name": "python3",
      "display_name": "Python 3"
    },
    "language_info": {
      "name": "python"
    }
  },
  "cells": [
    {
      "cell_type": "markdown",
      "metadata": {
        "id": "view-in-github",
        "colab_type": "text"
      },
      "source": [
        "<a href=\"https://colab.research.google.com/github/thanmai09/geek-for-geeks-160-days-challenge/blob/main/gfgday13.ipynb\" target=\"_parent\"><img src=\"https://colab.research.google.com/assets/colab-badge.svg\" alt=\"Open In Colab\"/></a>"
      ]
    },
    {
      "cell_type": "markdown",
      "source": [
        "# **🚀 Day 13. Smallest Positive Missing Number 🧠**\n",
        "#  💡 Problem Description:\n",
        "You are given an integer array arr[]. Your task is to find the smallest positive number missing from the array.\n",
        "\n",
        "Note: Positive number starts from 1. The array can have negative integers too.\n",
        "\n",
        "# 🔍 Example Walkthrough:\n",
        "\n",
        "Input:\n",
        "\n",
        "arr[] = [2, -3, 4, 1, 1, 7]\n",
        "\n",
        "Output:\n",
        "\n",
        "3\n",
        "\n",
        "Explanation:\n",
        "Smallest positive missing number is 3.\n",
        "\n",
        "Input:\n",
        "arr[] = [5, 3, 2, 5, 1]\n",
        "Output:\n",
        "4\n",
        "\n",
        "Explanation:\n",
        "Smallest positive missing number is 4.\n",
        "\n",
        "Input:\n",
        "arr[] = [-8, 0, -1, -4, -3]\n",
        "Output:\n",
        "1\n",
        "\n",
        "Explanation:\n",
        "Smallest positive missing number is 1.\n",
        "\n",
        "# 🎯 My Approach:\n",
        "\n",
        "In-place Rearrangement:\n",
        "\n",
        "The problem can be solved using an in-place rearrangement technique that places elements at their correct indices.\n",
        "The idea is to rearrange the elements such that for any element arr[i], it should be placed at index arr[i] - 1.\n",
        "After rearranging the elements, traverse the array again to find the smallest missing positive integer.\n",
        "\n",
        "Steps:\n",
        "\n",
        "Iterate through the array, and for each element that is within the valid range [1, n], place it in its correct position.\n",
        "Once the array is rearranged, traverse the array to identify the smallest index i where arr[i] != i + 1. This indicates the missing number.\n",
        "If all elements are in place, the missing number is n + 1."
      ],
      "metadata": {
        "id": "sHQm8CHdA4Fk"
      }
    },
    {
      "cell_type": "code",
      "execution_count": 1,
      "metadata": {
        "colab": {
          "base_uri": "https://localhost:8080/"
        },
        "id": "VFej0liFA2rm",
        "outputId": "50cdccf8-bd1c-4b73-c0d1-d86eb0a943db"
      },
      "outputs": [
        {
          "output_type": "stream",
          "name": "stdout",
          "text": [
            "Input: [3, 7, 1, 2, 8, 4, 5] => Missing Number: 6\n",
            "Input: [1, 2, 3, 5] => Missing Number: 4\n",
            "Input: [5, 3, 2, 1] => Missing Number: 4\n",
            "Input: [1] => Missing Number: 2\n",
            "Input: [2] => Missing Number: 1\n",
            "Input: [] => Missing Number: 1\n"
          ]
        }
      ],
      "source": [
        "class Solution:\n",
        "    def missingNumber(self, arr):\n",
        "        n = len(arr)\n",
        "        for i in range(n):\n",
        "            while arr[i] > 0 and arr[i] <= n and arr[i] != arr[arr[i] - 1]:\n",
        "                arr[arr[i] - 1], arr[i] = arr[i], arr[arr[i] - 1]\n",
        "        for i in range(n):\n",
        "            if arr[i] != i + 1:\n",
        "                return i + 1\n",
        "        return n + 1\n",
        "\n",
        "# Driver code\n",
        "if __name__ == \"__main__\":\n",
        "    solution = Solution()\n",
        "\n",
        "    # Example test cases\n",
        "    test_cases = [\n",
        "        [3, 7, 1, 2, 8, 4, 5],  # Missing number is 6\n",
        "        [1, 2, 3, 5],           # Missing number is 4\n",
        "        [5, 3, 2, 1],           # Missing number is 4\n",
        "        [1],                    # Missing number is 2\n",
        "        [2],                    # Missing number is 1\n",
        "        []                      # Missing number is 1\n",
        "    ]\n",
        "\n",
        "    for arr in test_cases:\n",
        "        print(f\"Input: {arr} => Missing Number: {solution.missingNumber(arr)}\")"
      ]
    }
  ]
}