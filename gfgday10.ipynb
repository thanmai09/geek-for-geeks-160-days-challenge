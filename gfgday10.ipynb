{
  "nbformat": 4,
  "nbformat_minor": 0,
  "metadata": {
    "colab": {
      "provenance": [],
      "authorship_tag": "ABX9TyMTtASsAuVj3pAFDCFOUIKQ",
      "include_colab_link": true
    },
    "kernelspec": {
      "name": "python3",
      "display_name": "Python 3"
    },
    "language_info": {
      "name": "python"
    }
  },
  "cells": [
    {
      "cell_type": "markdown",
      "metadata": {
        "id": "view-in-github",
        "colab_type": "text"
      },
      "source": [
        "<a href=\"https://colab.research.google.com/github/thanmai09/geek-for-geeks-160-days-challenge/blob/main/gfgday10.ipynb\" target=\"_parent\"><img src=\"https://colab.research.google.com/assets/colab-badge.svg\" alt=\"Open In Colab\"/></a>"
      ]
    },
    {
      "cell_type": "markdown",
      "source": [
        "# **🚀 Day 10. Kadane's Algorithm 🧠**\n",
        "#  💡 Problem Description:\n",
        "Given an integer array arr[], you need to find and return the maximum sum possible from all the subarrays.\n",
        "\n",
        "# 🔍 Example Walkthrough:\n",
        "Input:\n",
        "arr[] = [2, 3, -8, 7, -1, 2, 3]\n",
        "\n",
        "Output:\n",
        "11\n",
        "\n",
        "Explanation:\n",
        "The subarray {7, -1, 2, 3} has the largest sum, which is 11.\n",
        "\n",
        "Input:\n",
        "arr[] = [-2, -4]\n",
        "\n",
        "Output:\n",
        "-2\n",
        "\n",
        "Explanation:\n",
        "The subarray {-2} has the largest sum -2.\n",
        "\n",
        "# 🎯 My Approach:\n",
        "Kadane's Algorithm:\n",
        "\n",
        "The core idea is to iterate through the array and maintain two variables:\n",
        "maxh: the maximum sum of the subarray that ends at the current index.\n",
        "maxf: the global maximum sum encountered so far.\n",
        "For each element:\n",
        "Update maxh to be either the current element alone (starting a new subarray) or the current element added to the sum of the previous subarray.\n",
        "Update maxf to store the larger value between the current maxf and maxh.\n",
        "The result is the global maximum sum of a subarray in the array.\n",
        "Steps:\n",
        "\n",
        "Initialize maxh to 0 and maxf to a very small value.\n",
        "Traverse the array to calculate the maximum sum of the subarrays.\n",
        "Return maxf as the result, which will hold the largest sum of any subarray."
      ],
      "metadata": {
        "id": "L6N6IvmHYH2E"
      }
    },
    {
      "cell_type": "code",
      "execution_count": 1,
      "metadata": {
        "colab": {
          "base_uri": "https://localhost:8080/"
        },
        "id": "M8yNzP6nYGFB",
        "outputId": "6314f1a6-7cd0-4cea-c3fe-b3843af0dc4f"
      },
      "outputs": [
        {
          "output_type": "stream",
          "name": "stdout",
          "text": [
            "Test case 1: Input: [1, -2, 3, 4, -1, 2, 1, -5, 4] => Max Subarray Sum: 9\n",
            "Test case 2: Input: [-2, -3, -1, -5] => Max Subarray Sum: -1\n",
            "Test case 3: Input: [5, 4, -1, 7, 8] => Max Subarray Sum: 23\n",
            "Test case 4: Input: [1] => Max Subarray Sum: 1\n",
            "Test case 5: Input: [-1, -2, -3, -4] => Max Subarray Sum: -1\n",
            "Test case 6: Input: [2, 1, -3, 4, -1, 2, 1, -5, 4] => Max Subarray Sum: 6\n"
          ]
        }
      ],
      "source": [
        "class Solution:\n",
        "    def maxSubArraySum(self, arr):\n",
        "        maxh = 0\n",
        "        maxf = float('-inf')\n",
        "\n",
        "        for num in arr:\n",
        "            maxh = max(num, maxh + num)\n",
        "            maxf = max(maxf, maxh)\n",
        "\n",
        "        return maxf\n",
        "\n",
        "# Driver code to test the Solution class\n",
        "if __name__ == \"__main__\":\n",
        "    solution = Solution()\n",
        "\n",
        "    # Test cases\n",
        "    test_cases = [\n",
        "        [1, -2, 3, 4, -1, 2, 1, -5, 4],  # Expected output: 10\n",
        "        [-2, -3, -1, -5],                # Expected output: -1\n",
        "        [5, 4, -1, 7, 8],                # Expected output: 23\n",
        "        [1],                              # Expected output: 1\n",
        "        [-1, -2, -3, -4],                # Expected output: -1\n",
        "        [2, 1, -3, 4, -1, 2, 1, -5, 4]   # Expected output: 6\n",
        "    ]\n",
        "\n",
        "    for i, test in enumerate(test_cases):\n",
        "        result = solution.maxSubArraySum(test)\n",
        "        print(f\"Test case {i + 1}: Input: {test} => Max Subarray Sum: {result}\")"
      ]
    }
  ]
}